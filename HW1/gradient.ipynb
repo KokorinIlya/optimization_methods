{
 "cells": [
  {
   "cell_type": "code",
   "execution_count": 1,
   "metadata": {},
   "outputs": [],
   "source": [
    "from HW1.gradient_descent import gradient_descent, linear_step_chooser\n",
    "from HW1.one_demensional import dichotomy, golden, fib\n",
    "import numpy as np\n",
    "import matplotlib.pyplot as plt\n",
    "from tqdm.notebook import tqdm"
   ]
  },
  {
   "cell_type": "code",
   "execution_count": 2,
   "metadata": {},
   "outputs": [],
   "source": [
    "def rosenbrock_f(arg):\n",
    "    x = arg[0]\n",
    "    y = arg[1]\n",
    "    return 100 * ((y - x ** 2) ** 2) + ((1. - x) ** 2)"
   ]
  },
  {
   "cell_type": "code",
   "execution_count": 3,
   "metadata": {},
   "outputs": [],
   "source": [
    "def rosenbrock_grad(arg):\n",
    "    x = arg[0]\n",
    "    y = arg[1]\n",
    "    dx = 400 * (x * (0.005 - y) + x ** 3 - 0.005)\n",
    "    dy = 200 * (y - x ** 2)\n",
    "    return np.array([dx, dy])"
   ]
  },
  {
   "cell_type": "code",
   "execution_count": 4,
   "metadata": {},
   "outputs": [],
   "source": [
    "def draw_function(f, f_grad, start, method):\n",
    "    trace = gradient_descent(f, f_grad, start, linear_step_chooser(method), stop_criterion='grad', eps=1e-8)\n",
    "    print('Answer =', trace[-1])\n",
    "    print(len(trace), 'steps')\n",
    "    trace_to_show = [trace[i] for i in range(len(trace)) if i % 100 == 0 or i < 10]\n",
    "    \n",
    "    x_s = np.arange(-15, 15, 0.01)\n",
    "    y_s = np.arange(-10, 30, 0.01)\n",
    "    z_s = np.array([[f([x, y]) for x in x_s] for y in y_s])\n",
    "    \n",
    "    plt.figure()\n",
    "    cs = plt.contour(x_s, y_s, z_s, levels=1000)\n",
    "    # plt.clabel(cs)\n",
    "    for i in tqdm(range(len(trace_to_show) - 1)):\n",
    "        cur_point = trace_to_show[i]\n",
    "        next_point = trace_to_show[i + 1]\n",
    "        plt.scatter([cur_point[0]], [cur_point[1]])\n",
    "        plt.plot([cur_point[0], next_point[0]], [cur_point[1], next_point[1]])\n",
    "    plt.grid()\n",
    "    plt.show()"
   ]
  },
  {
   "cell_type": "code",
   "execution_count": null,
   "metadata": {},
   "outputs": [
    {
     "name": "stdout",
     "output_type": "stream",
     "text": [
      "Answer = [0.99999999 0.99999998]\n",
      "52302 steps\n"
     ]
    },
    {
     "data": {
      "application/vnd.jupyter.widget-view+json": {
       "model_id": "480616faffaa454b96e3975661dcc629",
       "version_major": 2,
       "version_minor": 0
      },
      "text/plain": [
       "HBox(children=(FloatProgress(value=0.0, max=532.0), HTML(value='')))"
      ]
     },
     "metadata": {},
     "output_type": "display_data"
    },
    {
     "name": "stdout",
     "output_type": "stream",
     "text": [
      "\n"
     ]
    }
   ],
   "source": [
    "draw_function(rosenbrock_f, rosenbrock_grad, start=np.array([-10, 20]), method=golden)"
   ]
  },
  {
   "cell_type": "code",
   "execution_count": null,
   "metadata": {},
   "outputs": [],
   "source": []
  }
 ],
 "metadata": {
  "kernelspec": {
   "display_name": "Python 3",
   "language": "python",
   "name": "python3"
  },
  "language_info": {
   "codemirror_mode": {
    "name": "ipython",
    "version": 3
   },
   "file_extension": ".py",
   "mimetype": "text/x-python",
   "name": "python",
   "nbconvert_exporter": "python",
   "pygments_lexer": "ipython3",
   "version": "3.7.6"
  }
 },
 "nbformat": 4,
 "nbformat_minor": 4
}
