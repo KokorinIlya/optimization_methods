{
 "cells": [
  {
   "cell_type": "code",
   "execution_count": 1,
   "metadata": {},
   "outputs": [],
   "source": [
    "import pandas as pd\n",
    "import numpy as np\n",
    "import matplotlib.pyplot as plt\n",
    "import matplotlib.colors\n",
    "import sklearn.model_selection\n",
    "from HW1.logit import Logit"
   ]
  },
  {
   "cell_type": "code",
   "execution_count": 2,
   "metadata": {},
   "outputs": [],
   "source": [
    "def read_dataset(path):\n",
    "    data = pd.read_csv(path)\n",
    "    X = data.iloc[:,:-1].values\n",
    "    y = data.iloc[:, -1].apply(lambda c: 1 if c == 'P' else -1).values\n",
    "    return X, y"
   ]
  },
  {
   "cell_type": "code",
   "execution_count": 3,
   "metadata": {},
   "outputs": [],
   "source": [
    "def calc_f_score(X, y, alpha):\n",
    "    n_splits = 5\n",
    "    cv = sklearn.model_selection.KFold(n_splits=n_splits, shuffle=True)\n",
    "    mean_f_score = 0.0\n",
    "    for train_indexes, test_indexes in cv.split(X):\n",
    "        X_train = X[train_indexes]\n",
    "        X_test = X[test_indexes]\n",
    "        y_train = y[train_indexes]\n",
    "        y_test = y[test_indexes]\n",
    "\n",
    "        classifier = Logit(alpha)\n",
    "        classifier.fit(X_train, y_train)\n",
    "        y_pred = classifier.predict(X_test)\n",
    "\n",
    "        tp = np.sum((y_pred == 1) & (y_test == 1))\n",
    "        fp = np.sum((y_pred == 1) & (y_test != 1))\n",
    "        tn = np.sum((y_pred != 1) & (y_test != 1))\n",
    "        fn = np.sum((y_pred != 1) & (y_test == 1))\n",
    "\n",
    "        if tp != 0:\n",
    "            precision = tp / (tp + fp)\n",
    "            recall = tp / (tp + fn)\n",
    "            f_score = 2 * precision * recall / (precision + recall)\n",
    "            mean_f_score += f_score\n",
    "    return mean_f_score / n_splits"
   ]
  },
  {
   "cell_type": "code",
   "execution_count": 4,
   "metadata": {},
   "outputs": [
    {
     "name": "stdout",
     "output_type": "stream",
     "text": [
      "alpha = 0.0001 f-score = 0.8684772296015181\n",
      "alpha = 0.001 f-score = 0.8730108511560124\n",
      "alpha = 0.01 f-score = 0.8635487924054168\n",
      "alpha = 0.1 f-score = 0.5530144927536231\n",
      "alpha = 1.0 f-score = 0.3351515151515151\n",
      "alpha = 10.0 f-score = 0.0\n",
      "alpha = 100.0 f-score = 0.0\n"
     ]
    }
   ],
   "source": [
    "X, y = read_dataset('data/geyser.csv')\n",
    "best_alpha = None\n",
    "max_f_score = -1\n",
    "for alpha in [0.0001, 0.001, 0.01, 0.1, 1., 10., 100.]:\n",
    "    cur_f_score = calc_f_score(X, y, alpha)\n",
    "    print('alpha =', alpha, 'f-score =', cur_f_score)\n",
    "    if cur_f_score > max_f_score:\n",
    "        max_f_score = cur_f_score\n",
    "        best_alpha = alpha"
   ]
  },
  {
   "cell_type": "code",
   "execution_count": 5,
   "metadata": {},
   "outputs": [
    {
     "data": {
      "text/plain": [
       "(0.8730108511560124, 0.001)"
      ]
     },
     "execution_count": 5,
     "metadata": {},
     "output_type": "execute_result"
    }
   ],
   "source": [
    "max_f_score, best_alpha"
   ]
  },
  {
   "cell_type": "code",
   "execution_count": null,
   "metadata": {},
   "outputs": [],
   "source": []
  }
 ],
 "metadata": {
  "kernelspec": {
   "display_name": "Python 3",
   "language": "python",
   "name": "python3"
  },
  "language_info": {
   "codemirror_mode": {
    "name": "ipython",
    "version": 3
   },
   "file_extension": ".py",
   "mimetype": "text/x-python",
   "name": "python",
   "nbconvert_exporter": "python",
   "pygments_lexer": "ipython3",
   "version": "3.7.6"
  }
 },
 "nbformat": 4,
 "nbformat_minor": 4
}
