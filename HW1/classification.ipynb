{
 "cells": [
  {
   "cell_type": "code",
   "execution_count": 1,
   "metadata": {},
   "outputs": [],
   "source": [
    "import pandas as pd\n",
    "import numpy as np\n",
    "import matplotlib.pyplot as plt\n",
    "import matplotlib.colors\n",
    "import sklearn.model_selection\n",
    "from HW1.logit import Logit"
   ]
  },
  {
   "cell_type": "code",
   "execution_count": 2,
   "metadata": {},
   "outputs": [],
   "source": [
    "def read_dataset(path):\n",
    "    data = pd.read_csv(path)\n",
    "    X = data.iloc[:,:-1].values\n",
    "    y = data.iloc[:, -1].apply(lambda c: 1 if c == 'P' else -1).values\n",
    "    return X, y"
   ]
  },
  {
   "cell_type": "code",
   "execution_count": 3,
   "metadata": {},
   "outputs": [],
   "source": [
    "def calc_f_score(X, y, alpha):\n",
    "    n_splits = 5\n",
    "    cv = sklearn.model_selection.KFold(n_splits=n_splits, shuffle=True)\n",
    "    mean_f_score = 0.0\n",
    "    for train_indexes, test_indexes in cv.split(X):\n",
    "        X_train = X[train_indexes]\n",
    "        X_test = X[test_indexes]\n",
    "        y_train = y[train_indexes]\n",
    "        y_test = y[test_indexes]\n",
    "\n",
    "        classifier = Logit(alpha)\n",
    "        classifier.fit(X_train, y_train)\n",
    "        y_pred = classifier.predict(X_test)\n",
    "\n",
    "        tp = np.sum((y_pred == 1) & (y_test == 1))\n",
    "        fp = np.sum((y_pred == 1) & (y_test != 1))\n",
    "        tn = np.sum((y_pred != 1) & (y_test != 1))\n",
    "        fn = np.sum((y_pred != 1) & (y_test == 1))\n",
    "\n",
    "        if tp != 0:\n",
    "            precision = tp / (tp + fp)\n",
    "            recall = tp / (tp + fn)\n",
    "            f_score = 2 * precision * recall / (precision + recall)\n",
    "            mean_f_score += f_score\n",
    "    return mean_f_score / n_splits"
   ]
  },
  {
   "cell_type": "code",
   "execution_count": null,
   "metadata": {},
   "outputs": [
    {
     "name": "stdout",
     "output_type": "stream",
     "text": [
      "finish 0.6098741103195365 [ 0.0340795  -0.27030063  0.02702094] [ 1.18684299e-11  2.12815210e-10 -9.71175473e-10]\n",
      "finish 0.6139238870586766 [ 0.0171436  -0.2357845   0.03406708] [ 1.03411793e-11  2.19960022e-10 -9.75446515e-10]\n",
      "finish 0.6276455993374155 [ 0.03608761 -0.24748536  0.03561537] [ 1.23922816e-11  2.14609164e-10 -9.73743301e-10]\n"
     ]
    }
   ],
   "source": [
    "X, y = read_dataset('data/geyser.csv')\n",
    "calc_f_score(X, y, 1.)"
   ]
  },
  {
   "cell_type": "code",
   "execution_count": null,
   "metadata": {},
   "outputs": [],
   "source": []
  }
 ],
 "metadata": {
  "kernelspec": {
   "display_name": "Python 3",
   "language": "python",
   "name": "python3"
  },
  "language_info": {
   "codemirror_mode": {
    "name": "ipython",
    "version": 3
   },
   "file_extension": ".py",
   "mimetype": "text/x-python",
   "name": "python",
   "nbconvert_exporter": "python",
   "pygments_lexer": "ipython3",
   "version": "3.7.6"
  }
 },
 "nbformat": 4,
 "nbformat_minor": 4
}
